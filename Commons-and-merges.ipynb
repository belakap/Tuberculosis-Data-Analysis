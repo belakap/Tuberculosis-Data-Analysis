{
 "cells": [
  {
   "cell_type": "code",
   "execution_count": 2,
   "id": "8ccc9d77-2eb2-4c35-b9b1-8764724204b5",
   "metadata": {},
   "outputs": [],
   "source": [
    "import pandas as pd"
   ]
  },
  {
   "cell_type": "code",
   "execution_count": 3,
   "id": "9652e183-9761-422a-a175-3ead95b6dfd9",
   "metadata": {},
   "outputs": [],
   "source": [
    "# Read both CSV files\n",
    "climate = pd.read_csv('DATA/CLEAN DATA/clean_climate_data.csv')\n",
    "tb = pd.read_csv('DATA/CLEAN DATA/clean-TB-data.csv')"
   ]
  },
  {
   "cell_type": "code",
   "execution_count": 4,
   "id": "9e7c5903-e9ca-47f6-af64-c5ea540af727",
   "metadata": {},
   "outputs": [
    {
     "name": "stdout",
     "output_type": "stream",
     "text": [
      "['Argentina', 'Australia', 'Brazil', 'Canada', 'China', 'France', 'Germany', 'India', 'Indonesia', 'Japan', 'Mexico', 'Russia', 'South Africa', 'UK', 'USA']\n"
     ]
    }
   ],
   "source": [
    "# Display names of countries in climate\n",
    "Country_name = climate[\"Country\"].unique().tolist()\n",
    "print(Country_name)\n"
   ]
  },
  {
   "cell_type": "code",
   "execution_count": 5,
   "id": "1a1c20b8-35b8-4e48-990f-51e1b832b7cb",
   "metadata": {},
   "outputs": [
    {
     "name": "stdout",
     "output_type": "stream",
     "text": [
      "['Bangladesh' 'Brazil' 'China' 'India' 'Indonesia' 'Nigeria' 'Pakistan'\n",
      " 'Russia' 'South Africa' 'USA']\n"
     ]
    }
   ],
   "source": [
    "# Display names of countries in tb\n",
    "Country_name = tb[\"Country\"].unique()\n",
    "print(Country_name)"
   ]
  },
  {
   "cell_type": "code",
   "execution_count": 6,
   "id": "b6c4a344-cb33-4d5e-a7b6-437d15c5cbbd",
   "metadata": {},
   "outputs": [
    {
     "name": "stdout",
     "output_type": "stream",
     "text": [
      "{'India', 'Brazil', 'Indonesia', 'South Africa', 'China', 'USA', 'Russia'}\n"
     ]
    }
   ],
   "source": [
    "# Find common countries\n",
    "common_countries = set(climate['Country']).intersection(tb['Country'])\n",
    "print(common_countries)"
   ]
  },
  {
   "cell_type": "code",
   "execution_count": 7,
   "id": "8a60974b-90e4-43f7-9823-2f56ff9431d5",
   "metadata": {},
   "outputs": [
    {
     "name": "stdout",
     "output_type": "stream",
     "text": [
      "    Country  Year  Avg Temperature (°C)  CO2 Emissions (Tons/Capita)  \\\n",
      "43   Brazil  2000             31.200000                    14.600000   \n",
      "44   Brazil  2001             17.150000                    11.350000   \n",
      "45   Brazil  2002             14.266667                    11.066667   \n",
      "46   Brazil  2003             17.450000                    12.750000   \n",
      "47   Brazil  2004             16.400000                    10.100000   \n",
      "..      ...   ...                   ...                          ...   \n",
      "335     USA  2019             30.800000                     8.400000   \n",
      "336     USA  2020             14.250000                    10.600000   \n",
      "337     USA  2021             26.450000                    16.050000   \n",
      "338     USA  2022             17.285714                    11.242857   \n",
      "339     USA  2023             16.257143                    11.242857   \n",
      "\n",
      "     Rainfall (mm)    Population  Extreme Weather Events  \n",
      "43      803.000000  2.553400e+08                9.000000  \n",
      "44     1492.000000  6.233296e+08               12.500000  \n",
      "45     2127.000000  5.631957e+08                9.000000  \n",
      "46     1616.000000  5.330340e+08                8.000000  \n",
      "47     1641.000000  6.815291e+08                7.000000  \n",
      "..             ...           ...                     ...  \n",
      "335    1891.000000  7.042742e+08                7.333333  \n",
      "336    2349.500000  7.770560e+08                6.250000  \n",
      "337    1387.000000  1.094680e+09                6.500000  \n",
      "338    1912.571429  7.274027e+08                7.714286  \n",
      "339    1532.000000  7.628877e+08                5.142857  \n",
      "\n",
      "[159 rows x 7 columns]     Country  Year      TB_Cases    TB_Deaths  TB_Incidence_Rate  \\\n",
      "25   Brazil  2000  26469.928571  4715.071429         264.630714   \n",
      "26   Brazil  2001  27111.200000  5496.066667         222.940667   \n",
      "27   Brazil  2002  25070.307692  4635.076923         224.391538   \n",
      "28   Brazil  2003  26293.800000  4056.400000         224.887000   \n",
      "29   Brazil  2004  26121.500000  5998.700000         211.456000   \n",
      "..      ...   ...           ...          ...                ...   \n",
      "245     USA  2020  21129.500000  5269.200000         297.089000   \n",
      "246     USA  2021  21007.142857  3201.428571         285.974286   \n",
      "247     USA  2022  31407.600000  6023.866667         253.673333   \n",
      "248     USA  2023  27703.545455  6002.000000         246.024545   \n",
      "249     USA  2024  26832.916667  4297.666667         283.975000   \n",
      "\n",
      "     TB_Mortality_Rate    Population  Urban_Population_Percentage  \\\n",
      "25           25.564286  6.243100e+08                    53.610714   \n",
      "26           22.799333  5.773580e+08                    57.509333   \n",
      "27           26.070000  6.154342e+08                    52.996154   \n",
      "28           21.379000  3.593807e+08                    52.546000   \n",
      "29           32.323000  8.924601e+08                    54.511000   \n",
      "..                 ...           ...                          ...   \n",
      "245          30.186000  7.849409e+08                    60.090000   \n",
      "246          19.812857  9.580873e+08                    52.978571   \n",
      "247          26.543333  7.883010e+08                    55.515333   \n",
      "248          29.214545  7.060626e+08                    52.087273   \n",
      "249          24.186667  7.876782e+08                    48.050833   \n",
      "\n",
      "     Malnutrition_Prevalence  Smoking_Prevalence  TB_Doctors_Per_100K  \\\n",
      "25                 26.952857           23.152143             4.580714   \n",
      "26                 29.274000           20.102667             4.538000   \n",
      "27                 24.186923           16.760769             4.943846   \n",
      "28                 29.837000           20.646000             3.956000   \n",
      "29                 33.670000           18.320000             4.539000   \n",
      "..                       ...                 ...                  ...   \n",
      "245                28.018000           22.140000             4.110000   \n",
      "246                32.048571           25.894286             2.774286   \n",
      "247                22.657333           20.240667             5.432000   \n",
      "248                20.811818           23.162727             5.218182   \n",
      "249                25.278333           23.558333             4.706667   \n",
      "\n",
      "     Access_To_Health_Services  BCG_Vaccination_Coverage  \n",
      "25                   65.399286                 72.300714  \n",
      "26                   59.501333                 72.997333  \n",
      "27                   58.539231                 74.576154  \n",
      "28                   67.115000                 71.201000  \n",
      "29                   71.741000                 77.079000  \n",
      "..                         ...                       ...  \n",
      "245                  62.249000                 69.852000  \n",
      "246                  64.472857                 83.158571  \n",
      "247                  59.010667                 79.668667  \n",
      "248                  58.169091                 80.250000  \n",
      "249                  63.940000                 72.790833  \n",
      "\n",
      "[175 rows x 13 columns]\n"
     ]
    }
   ],
   "source": [
    "# Filter both datasets to create datasets with only the common countries \n",
    "climate_common = climate[climate['Country'].isin(common_countries)]\n",
    "tb_common = tb[tb['Country'].isin(common_countries)]\n",
    "print(climate_common,tb_common)"
   ]
  },
  {
   "cell_type": "code",
   "execution_count": 8,
   "id": "ec928157-09fa-4533-ac57-2c93a591ed9a",
   "metadata": {},
   "outputs": [
    {
     "name": "stdout",
     "output_type": "stream",
     "text": [
      "    Country  Year  Avg Temperature (°C)  CO2 Emissions (Tons/Capita)  \\\n",
      "0    Brazil  2000             31.200000                    14.600000   \n",
      "1    Brazil  2001             17.150000                    11.350000   \n",
      "2    Brazil  2002             14.266667                    11.066667   \n",
      "3    Brazil  2003             17.450000                    12.750000   \n",
      "4    Brazil  2004             16.400000                    10.100000   \n",
      "..      ...   ...                   ...                          ...   \n",
      "154     USA  2019             30.800000                     8.400000   \n",
      "155     USA  2020             14.250000                    10.600000   \n",
      "156     USA  2021             26.450000                    16.050000   \n",
      "157     USA  2022             17.285714                    11.242857   \n",
      "158     USA  2023             16.257143                    11.242857   \n",
      "\n",
      "     Rainfall (mm)    Population  Extreme Weather Events  \n",
      "0       803.000000  2.553400e+08                9.000000  \n",
      "1      1492.000000  6.233296e+08               12.500000  \n",
      "2      2127.000000  5.631957e+08                9.000000  \n",
      "3      1616.000000  5.330340e+08                8.000000  \n",
      "4      1641.000000  6.815291e+08                7.000000  \n",
      "..             ...           ...                     ...  \n",
      "154    1891.000000  7.042742e+08                7.333333  \n",
      "155    2349.500000  7.770560e+08                6.250000  \n",
      "156    1387.000000  1.094680e+09                6.500000  \n",
      "157    1912.571429  7.274027e+08                7.714286  \n",
      "158    1532.000000  7.628877e+08                5.142857  \n",
      "\n",
      "[159 rows x 7 columns]\n"
     ]
    }
   ],
   "source": [
    "climate_common = climate[climate['Country'].isin(common_countries)].reset_index(drop=True)\n",
    "print(climate_common)"
   ]
  },
  {
   "cell_type": "code",
   "execution_count": 9,
   "id": "e2584691-a990-4187-9dfb-f47e8789c3db",
   "metadata": {},
   "outputs": [
    {
     "name": "stdout",
     "output_type": "stream",
     "text": [
      "    Country  Year      TB_Cases    TB_Deaths  TB_Incidence_Rate  \\\n",
      "0    Brazil  2000  26469.928571  4715.071429         264.630714   \n",
      "1    Brazil  2001  27111.200000  5496.066667         222.940667   \n",
      "2    Brazil  2002  25070.307692  4635.076923         224.391538   \n",
      "3    Brazil  2003  26293.800000  4056.400000         224.887000   \n",
      "4    Brazil  2004  26121.500000  5998.700000         211.456000   \n",
      "..      ...   ...           ...          ...                ...   \n",
      "170     USA  2020  21129.500000  5269.200000         297.089000   \n",
      "171     USA  2021  21007.142857  3201.428571         285.974286   \n",
      "172     USA  2022  31407.600000  6023.866667         253.673333   \n",
      "173     USA  2023  27703.545455  6002.000000         246.024545   \n",
      "174     USA  2024  26832.916667  4297.666667         283.975000   \n",
      "\n",
      "     TB_Mortality_Rate    Population  Urban_Population_Percentage  \\\n",
      "0            25.564286  6.243100e+08                    53.610714   \n",
      "1            22.799333  5.773580e+08                    57.509333   \n",
      "2            26.070000  6.154342e+08                    52.996154   \n",
      "3            21.379000  3.593807e+08                    52.546000   \n",
      "4            32.323000  8.924601e+08                    54.511000   \n",
      "..                 ...           ...                          ...   \n",
      "170          30.186000  7.849409e+08                    60.090000   \n",
      "171          19.812857  9.580873e+08                    52.978571   \n",
      "172          26.543333  7.883010e+08                    55.515333   \n",
      "173          29.214545  7.060626e+08                    52.087273   \n",
      "174          24.186667  7.876782e+08                    48.050833   \n",
      "\n",
      "     Malnutrition_Prevalence  Smoking_Prevalence  TB_Doctors_Per_100K  \\\n",
      "0                  26.952857           23.152143             4.580714   \n",
      "1                  29.274000           20.102667             4.538000   \n",
      "2                  24.186923           16.760769             4.943846   \n",
      "3                  29.837000           20.646000             3.956000   \n",
      "4                  33.670000           18.320000             4.539000   \n",
      "..                       ...                 ...                  ...   \n",
      "170                28.018000           22.140000             4.110000   \n",
      "171                32.048571           25.894286             2.774286   \n",
      "172                22.657333           20.240667             5.432000   \n",
      "173                20.811818           23.162727             5.218182   \n",
      "174                25.278333           23.558333             4.706667   \n",
      "\n",
      "     Access_To_Health_Services  BCG_Vaccination_Coverage  \n",
      "0                    65.399286                 72.300714  \n",
      "1                    59.501333                 72.997333  \n",
      "2                    58.539231                 74.576154  \n",
      "3                    67.115000                 71.201000  \n",
      "4                    71.741000                 77.079000  \n",
      "..                         ...                       ...  \n",
      "170                  62.249000                 69.852000  \n",
      "171                  64.472857                 83.158571  \n",
      "172                  59.010667                 79.668667  \n",
      "173                  58.169091                 80.250000  \n",
      "174                  63.940000                 72.790833  \n",
      "\n",
      "[175 rows x 13 columns]\n"
     ]
    }
   ],
   "source": [
    "tb_common = tb[tb['Country'].isin(common_countries)].reset_index(drop=True)\n",
    "print(tb_common)"
   ]
  },
  {
   "cell_type": "code",
   "execution_count": 10,
   "id": "257cd89e-34c7-4fbb-af9f-b83cf58d3356",
   "metadata": {},
   "outputs": [
    {
     "name": "stdout",
     "output_type": "stream",
     "text": [
      "Country\n",
      "Brazil          24\n",
      "Russia          24\n",
      "India           23\n",
      "South Africa    23\n",
      "Indonesia       22\n",
      "USA             22\n",
      "China           21\n",
      "Name: count, dtype: int64\n",
      "Country\n",
      "Brazil          25\n",
      "China           25\n",
      "India           25\n",
      "Indonesia       25\n",
      "Russia          25\n",
      "South Africa    25\n",
      "USA             25\n",
      "Name: count, dtype: int64\n"
     ]
    }
   ],
   "source": [
    "print(climate_common['Country'].value_counts())\n",
    "print(tb_common['Country'].value_counts())"
   ]
  },
  {
   "cell_type": "markdown",
   "id": "39a1fcb3-5230-46ea-bb28-799ec49d597b",
   "metadata": {},
   "source": [
    "Data are mismatched for the two datasets. The count per country in climate does not match in tb for the same period of time. "
   ]
  },
  {
   "cell_type": "markdown",
   "id": "67438bdb-cd4c-41a4-a431-2edf37558bbf",
   "metadata": {},
   "source": [
    "We missing years in climate_common."
   ]
  },
  {
   "cell_type": "markdown",
   "id": "af820a83-bb77-4b57-95db-af07cef08e6e",
   "metadata": {},
   "source": [
    "This will affect the merge and bias the analyzis"
   ]
  },
  {
   "cell_type": "code",
   "execution_count": 11,
   "id": "5003b365-9714-4092-b4de-69784a276e9e",
   "metadata": {},
   "outputs": [
    {
     "name": "stdout",
     "output_type": "stream",
     "text": [
      "India\n",
      "[2000 2001 2002 2003 2004 2005 2006 2007 2008 2009 2011 2012 2013 2014\n",
      " 2015 2016 2017 2018 2019 2020 2021 2022 2023]\n",
      "Brazil\n",
      "[2000 2001 2002 2003 2004 2005 2006 2007 2008 2009 2010 2011 2012 2013\n",
      " 2014 2015 2016 2017 2018 2019 2020 2021 2022 2023]\n",
      "Indonesia\n",
      "[2000 2001 2002 2003 2004 2005 2006 2007 2008 2009 2010 2011 2012 2014\n",
      " 2015 2016 2018 2019 2020 2021 2022 2023]\n",
      "South Africa\n",
      "[2000 2001 2002 2003 2004 2006 2007 2008 2009 2010 2011 2012 2013 2014\n",
      " 2015 2016 2017 2018 2019 2020 2021 2022 2023]\n",
      "China\n",
      "[2000 2001 2003 2004 2006 2007 2008 2010 2011 2012 2013 2014 2015 2016\n",
      " 2017 2018 2019 2020 2021 2022 2023]\n",
      "USA\n",
      "[2000 2001 2002 2003 2004 2005 2006 2007 2008 2009 2011 2012 2013 2014\n",
      " 2015 2016 2018 2019 2020 2021 2022 2023]\n",
      "Russia\n",
      "[2000 2001 2002 2003 2004 2005 2006 2007 2008 2009 2010 2011 2012 2013\n",
      " 2014 2015 2016 2017 2018 2019 2020 2021 2022 2023]\n"
     ]
    }
   ],
   "source": [
    "# Check the missing countries in climate_common\n",
    "for country in common_countries:\n",
    "    print(country)\n",
    "    print(climate_common[climate_common['Country'] == country]['Year'].sort_values().unique())"
   ]
  },
  {
   "cell_type": "code",
   "execution_count": 12,
   "id": "6b10191b-0a2a-4933-9d4f-2e8060d69f0c",
   "metadata": {},
   "outputs": [],
   "source": [
    "# Matching\n",
    "# Get the common (Country, Year) combinations\n",
    "common_keys = pd.merge(\n",
    "    climate_common[['Country', 'Year']],\n",
    "    tb_common[['Country', 'Year']],\n",
    "    on=['Country', 'Year'],\n",
    "    how='inner'\n",
    ")\n",
    "\n",
    "# Filter both datasets to keep only the matching rows\n",
    "climate_matched = pd.merge(climate_common, common_keys, on=['Country', 'Year'], how='inner')\n",
    "tb_matched = pd.merge(tb_common, common_keys, on=['Country', 'Year'], how='inner')"
   ]
  },
  {
   "cell_type": "code",
   "execution_count": 13,
   "id": "c59bfa09-52e2-479a-98c4-2d6ee7299ac6",
   "metadata": {},
   "outputs": [
    {
     "name": "stdout",
     "output_type": "stream",
     "text": [
      "India\n",
      "Climate years: [2000 2001 2002 2003 2004 2005 2006 2007 2008 2009 2011 2012 2013 2014\n",
      " 2015 2016 2017 2018 2019 2020 2021 2022 2023]\n",
      "TB years:      [2000 2001 2002 2003 2004 2005 2006 2007 2008 2009 2011 2012 2013 2014\n",
      " 2015 2016 2017 2018 2019 2020 2021 2022 2023]\n",
      "Brazil\n",
      "Climate years: [2000 2001 2002 2003 2004 2005 2006 2007 2008 2009 2010 2011 2012 2013\n",
      " 2014 2015 2016 2017 2018 2019 2020 2021 2022 2023]\n",
      "TB years:      [2000 2001 2002 2003 2004 2005 2006 2007 2008 2009 2010 2011 2012 2013\n",
      " 2014 2015 2016 2017 2018 2019 2020 2021 2022 2023]\n",
      "Indonesia\n",
      "Climate years: [2000 2001 2002 2003 2004 2005 2006 2007 2008 2009 2010 2011 2012 2014\n",
      " 2015 2016 2018 2019 2020 2021 2022 2023]\n",
      "TB years:      [2000 2001 2002 2003 2004 2005 2006 2007 2008 2009 2010 2011 2012 2014\n",
      " 2015 2016 2018 2019 2020 2021 2022 2023]\n",
      "South Africa\n",
      "Climate years: [2000 2001 2002 2003 2004 2006 2007 2008 2009 2010 2011 2012 2013 2014\n",
      " 2015 2016 2017 2018 2019 2020 2021 2022 2023]\n",
      "TB years:      [2000 2001 2002 2003 2004 2006 2007 2008 2009 2010 2011 2012 2013 2014\n",
      " 2015 2016 2017 2018 2019 2020 2021 2022 2023]\n",
      "China\n",
      "Climate years: [2000 2001 2003 2004 2006 2007 2008 2010 2011 2012 2013 2014 2015 2016\n",
      " 2017 2018 2019 2020 2021 2022 2023]\n",
      "TB years:      [2000 2001 2003 2004 2006 2007 2008 2010 2011 2012 2013 2014 2015 2016\n",
      " 2017 2018 2019 2020 2021 2022 2023]\n",
      "USA\n",
      "Climate years: [2000 2001 2002 2003 2004 2005 2006 2007 2008 2009 2011 2012 2013 2014\n",
      " 2015 2016 2018 2019 2020 2021 2022 2023]\n",
      "TB years:      [2000 2001 2002 2003 2004 2005 2006 2007 2008 2009 2011 2012 2013 2014\n",
      " 2015 2016 2018 2019 2020 2021 2022 2023]\n",
      "Russia\n",
      "Climate years: [2000 2001 2002 2003 2004 2005 2006 2007 2008 2009 2010 2011 2012 2013\n",
      " 2014 2015 2016 2017 2018 2019 2020 2021 2022 2023]\n",
      "TB years:      [2000 2001 2002 2003 2004 2005 2006 2007 2008 2009 2010 2011 2012 2013\n",
      " 2014 2015 2016 2017 2018 2019 2020 2021 2022 2023]\n"
     ]
    }
   ],
   "source": [
    "for country in common_countries:\n",
    "    print(country)\n",
    "    print(\"Climate years:\", climate_matched[climate_matched['Country'] == country]['Year'].sort_values().unique())\n",
    "    print(\"TB years:     \", tb_matched[tb_matched['Country'] == country]['Year'].sort_values().unique())"
   ]
  },
  {
   "cell_type": "code",
   "execution_count": 14,
   "id": "1128a134-d1f9-4e1a-9a37-83046dc45093",
   "metadata": {},
   "outputs": [
    {
     "name": "stdout",
     "output_type": "stream",
     "text": [
      "Country\n",
      "Brazil          24\n",
      "Russia          24\n",
      "India           23\n",
      "South Africa    23\n",
      "Indonesia       22\n",
      "USA             22\n",
      "China           21\n",
      "Name: count, dtype: int64\n",
      "Country\n",
      "Brazil          24\n",
      "Russia          24\n",
      "India           23\n",
      "South Africa    23\n",
      "Indonesia       22\n",
      "USA             22\n",
      "China           21\n",
      "Name: count, dtype: int64\n"
     ]
    }
   ],
   "source": [
    "\n",
    "print(climate_matched['Country'].value_counts())\n",
    "print(tb_matched['Country'].value_counts())\n"
   ]
  },
  {
   "cell_type": "code",
   "execution_count": 15,
   "id": "b1122b8c-1199-4290-a0de-fbb69f3a15a6",
   "metadata": {},
   "outputs": [],
   "source": [
    "# Step 1: Get years per country in each dataset\n",
    "climate_years_by_country = climate_common.groupby('Country')['Year'].apply(set)\n",
    "tb_years_by_country = tb_common.groupby('Country')['Year'].apply(set)\n",
    "\n",
    "# Step 2: Find the intersection of years that appear for *every* country\n",
    "common_years_climate = set.intersection(*climate_years_by_country)\n",
    "common_years_tb = set.intersection(*tb_years_by_country)\n",
    "\n",
    "# Step 3: Keep only the years that are common to all countries in both datasets\n",
    "final_common_years = common_years_climate & common_years_tb\n",
    "\n",
    "# Step 4: Filter both datasets\n",
    "climate_matched = climate_common[climate_common['Year'].isin(final_common_years)]\n",
    "tb_matched = tb_common[tb_common['Year'].isin(final_common_years)]"
   ]
  },
  {
   "cell_type": "code",
   "execution_count": 16,
   "id": "d0085049-1e71-4e04-b766-d385c8ba111e",
   "metadata": {},
   "outputs": [
    {
     "name": "stdout",
     "output_type": "stream",
     "text": [
      "Country\n",
      "Brazil          18\n",
      "China           18\n",
      "India           18\n",
      "Indonesia       18\n",
      "Russia          18\n",
      "South Africa    18\n",
      "USA             18\n",
      "Name: count, dtype: int64\n",
      "Country\n",
      "Brazil          18\n",
      "China           18\n",
      "India           18\n",
      "Indonesia       18\n",
      "Russia          18\n",
      "South Africa    18\n",
      "USA             18\n",
      "Name: count, dtype: int64\n"
     ]
    }
   ],
   "source": [
    "print(climate_matched['Country'].value_counts())\n",
    "print(tb_matched['Country'].value_counts())\n"
   ]
  },
  {
   "cell_type": "code",
   "execution_count": 17,
   "id": "ecc799ba-2f99-4260-b5e5-e3f627ea4251",
   "metadata": {},
   "outputs": [
    {
     "name": "stdout",
     "output_type": "stream",
     "text": [
      "India\n",
      "Climate years: [2000 2001 2003 2004 2006 2007 2008 2011 2012 2014 2015 2016 2018 2019\n",
      " 2020 2021 2022 2023]\n",
      "TB years:      [2000 2001 2003 2004 2006 2007 2008 2011 2012 2014 2015 2016 2018 2019\n",
      " 2020 2021 2022 2023]\n",
      "Brazil\n",
      "Climate years: [2000 2001 2003 2004 2006 2007 2008 2011 2012 2014 2015 2016 2018 2019\n",
      " 2020 2021 2022 2023]\n",
      "TB years:      [2000 2001 2003 2004 2006 2007 2008 2011 2012 2014 2015 2016 2018 2019\n",
      " 2020 2021 2022 2023]\n",
      "Indonesia\n",
      "Climate years: [2000 2001 2003 2004 2006 2007 2008 2011 2012 2014 2015 2016 2018 2019\n",
      " 2020 2021 2022 2023]\n",
      "TB years:      [2000 2001 2003 2004 2006 2007 2008 2011 2012 2014 2015 2016 2018 2019\n",
      " 2020 2021 2022 2023]\n",
      "South Africa\n",
      "Climate years: [2000 2001 2003 2004 2006 2007 2008 2011 2012 2014 2015 2016 2018 2019\n",
      " 2020 2021 2022 2023]\n",
      "TB years:      [2000 2001 2003 2004 2006 2007 2008 2011 2012 2014 2015 2016 2018 2019\n",
      " 2020 2021 2022 2023]\n",
      "China\n",
      "Climate years: [2000 2001 2003 2004 2006 2007 2008 2011 2012 2014 2015 2016 2018 2019\n",
      " 2020 2021 2022 2023]\n",
      "TB years:      [2000 2001 2003 2004 2006 2007 2008 2011 2012 2014 2015 2016 2018 2019\n",
      " 2020 2021 2022 2023]\n",
      "USA\n",
      "Climate years: [2000 2001 2003 2004 2006 2007 2008 2011 2012 2014 2015 2016 2018 2019\n",
      " 2020 2021 2022 2023]\n",
      "TB years:      [2000 2001 2003 2004 2006 2007 2008 2011 2012 2014 2015 2016 2018 2019\n",
      " 2020 2021 2022 2023]\n",
      "Russia\n",
      "Climate years: [2000 2001 2003 2004 2006 2007 2008 2011 2012 2014 2015 2016 2018 2019\n",
      " 2020 2021 2022 2023]\n",
      "TB years:      [2000 2001 2003 2004 2006 2007 2008 2011 2012 2014 2015 2016 2018 2019\n",
      " 2020 2021 2022 2023]\n"
     ]
    }
   ],
   "source": [
    "for country in common_countries:\n",
    "    print(country)\n",
    "    print(\"Climate years:\", climate_matched[climate_matched['Country'] == country]['Year'].sort_values().unique())\n",
    "    print(\"TB years:     \", tb_matched[tb_matched['Country'] == country]['Year'].sort_values().unique())"
   ]
  },
  {
   "cell_type": "code",
   "execution_count": 18,
   "id": "5cf80ff4-4b2f-403e-9d98-bf6420b7aeb4",
   "metadata": {},
   "outputs": [
    {
     "data": {
      "text/plain": [
       "Index(['Country', 'Year', 'Avg Temperature (°C)',\n",
       "       'CO2 Emissions (Tons/Capita)', 'Rainfall (mm)', 'Population',\n",
       "       'Extreme Weather Events'],\n",
       "      dtype='object')"
      ]
     },
     "execution_count": 18,
     "metadata": {},
     "output_type": "execute_result"
    }
   ],
   "source": [
    "climate_matched.columns"
   ]
  },
  {
   "cell_type": "code",
   "execution_count": 20,
   "id": "1c1416aa-2acb-4d63-b352-ae2e8f56b079",
   "metadata": {},
   "outputs": [
    {
     "data": {
      "text/plain": [
       "Index(['Country', 'Year', 'TB_Cases', 'TB_Deaths', 'TB_Incidence_Rate',\n",
       "       'TB_Mortality_Rate', 'Population', 'Urban_Population_Percentage',\n",
       "       'Malnutrition_Prevalence', 'Smoking_Prevalence', 'TB_Doctors_Per_100K',\n",
       "       'Access_To_Health_Services', 'BCG_Vaccination_Coverage'],\n",
       "      dtype='object')"
      ]
     },
     "execution_count": 20,
     "metadata": {},
     "output_type": "execute_result"
    }
   ],
   "source": [
    "tb_matched.columns"
   ]
  },
  {
   "cell_type": "code",
   "execution_count": 23,
   "id": "f5716a45-ba0c-4c59-a210-7ce12bf0432f",
   "metadata": {},
   "outputs": [
    {
     "name": "stdout",
     "output_type": "stream",
     "text": [
      "    Country  Year  Avg Temperature (°C)  CO2 Emissions (Tons/Capita)  \\\n",
      "0    Brazil  2000             31.200000                    14.600000   \n",
      "1    Brazil  2001             17.150000                    11.350000   \n",
      "3    Brazil  2003             17.450000                    12.750000   \n",
      "4    Brazil  2004             16.400000                    10.100000   \n",
      "6    Brazil  2006             22.233333                    11.733333   \n",
      "..      ...   ...                   ...                          ...   \n",
      "154     USA  2019             30.800000                     8.400000   \n",
      "155     USA  2020             14.250000                    10.600000   \n",
      "156     USA  2021             26.450000                    16.050000   \n",
      "157     USA  2022             17.285714                    11.242857   \n",
      "158     USA  2023             16.257143                    11.242857   \n",
      "\n",
      "     Rainfall (mm)  Extreme Weather Events  \n",
      "0       803.000000                9.000000  \n",
      "1      1492.000000               12.500000  \n",
      "3      1616.000000                8.000000  \n",
      "4      1641.000000                7.000000  \n",
      "6      2343.333333                6.333333  \n",
      "..             ...                     ...  \n",
      "154    1891.000000                7.333333  \n",
      "155    2349.500000                6.250000  \n",
      "156    1387.000000                6.500000  \n",
      "157    1912.571429                7.714286  \n",
      "158    1532.000000                5.142857  \n",
      "\n",
      "[126 rows x 6 columns]     Country  Year      TB_Cases    TB_Deaths  TB_Incidence_Rate  \\\n",
      "0    Brazil  2000  26469.928571  4715.071429         264.630714   \n",
      "1    Brazil  2001  27111.200000  5496.066667         222.940667   \n",
      "3    Brazil  2003  26293.800000  4056.400000         224.887000   \n",
      "4    Brazil  2004  26121.500000  5998.700000         211.456000   \n",
      "6    Brazil  2006  18239.300000  4474.800000         276.510000   \n",
      "..      ...   ...           ...          ...                ...   \n",
      "169     USA  2019  23763.214286  3802.642857         278.699286   \n",
      "170     USA  2020  21129.500000  5269.200000         297.089000   \n",
      "171     USA  2021  21007.142857  3201.428571         285.974286   \n",
      "172     USA  2022  31407.600000  6023.866667         253.673333   \n",
      "173     USA  2023  27703.545455  6002.000000         246.024545   \n",
      "\n",
      "     TB_Mortality_Rate  \n",
      "0            25.564286  \n",
      "1            22.799333  \n",
      "3            21.379000  \n",
      "4            32.323000  \n",
      "6            28.467000  \n",
      "..                 ...  \n",
      "169          26.669286  \n",
      "170          30.186000  \n",
      "171          19.812857  \n",
      "172          26.543333  \n",
      "173          29.214545  \n",
      "\n",
      "[126 rows x 6 columns]\n"
     ]
    }
   ],
   "source": [
    "climate_reduced = climate_matched.drop(columns=['Population'])\n",
    "tb_reduced = tb_matched.drop(columns=['Population', 'Urban_Population_Percentage',\n",
    "       'Malnutrition_Prevalence', 'Smoking_Prevalence', 'TB_Doctors_Per_100K',\n",
    "       'Access_To_Health_Services', 'BCG_Vaccination_Coverage'])\n",
    "print(climate_reduced, tb_reduced)"
   ]
  },
  {
   "cell_type": "code",
   "execution_count": 24,
   "id": "b1cd4134-5a90-4bbb-8461-e8d4ea0f8c21",
   "metadata": {},
   "outputs": [
    {
     "name": "stdout",
     "output_type": "stream",
     "text": [
      "    Country  Year  Avg Temperature (°C)  CO2 Emissions (Tons/Capita)  \\\n",
      "0    Brazil  2000             31.200000                    14.600000   \n",
      "1    Brazil  2001             17.150000                    11.350000   \n",
      "2    Brazil  2003             17.450000                    12.750000   \n",
      "3    Brazil  2004             16.400000                    10.100000   \n",
      "4    Brazil  2006             22.233333                    11.733333   \n",
      "..      ...   ...                   ...                          ...   \n",
      "121     USA  2019             30.800000                     8.400000   \n",
      "122     USA  2020             14.250000                    10.600000   \n",
      "123     USA  2021             26.450000                    16.050000   \n",
      "124     USA  2022             17.285714                    11.242857   \n",
      "125     USA  2023             16.257143                    11.242857   \n",
      "\n",
      "     Rainfall (mm)  Extreme Weather Events      TB_Cases    TB_Deaths  \\\n",
      "0       803.000000                9.000000  26469.928571  4715.071429   \n",
      "1      1492.000000               12.500000  27111.200000  5496.066667   \n",
      "2      1616.000000                8.000000  26293.800000  4056.400000   \n",
      "3      1641.000000                7.000000  26121.500000  5998.700000   \n",
      "4      2343.333333                6.333333  18239.300000  4474.800000   \n",
      "..             ...                     ...           ...          ...   \n",
      "121    1891.000000                7.333333  23763.214286  3802.642857   \n",
      "122    2349.500000                6.250000  21129.500000  5269.200000   \n",
      "123    1387.000000                6.500000  21007.142857  3201.428571   \n",
      "124    1912.571429                7.714286  31407.600000  6023.866667   \n",
      "125    1532.000000                5.142857  27703.545455  6002.000000   \n",
      "\n",
      "     TB_Incidence_Rate  TB_Mortality_Rate  \n",
      "0           264.630714          25.564286  \n",
      "1           222.940667          22.799333  \n",
      "2           224.887000          21.379000  \n",
      "3           211.456000          32.323000  \n",
      "4           276.510000          28.467000  \n",
      "..                 ...                ...  \n",
      "121         278.699286          26.669286  \n",
      "122         297.089000          30.186000  \n",
      "123         285.974286          19.812857  \n",
      "124         253.673333          26.543333  \n",
      "125         246.024545          29.214545  \n",
      "\n",
      "[126 rows x 10 columns]\n"
     ]
    }
   ],
   "source": [
    "#Merge the two datasets\n",
    "merged_dataset = pd.merge(climate_reduced, tb_reduced, on=['Country', 'Year'], how='inner')\n",
    "print(merged_dataset)"
   ]
  },
  {
   "cell_type": "code",
   "execution_count": null,
   "id": "df978e21-53dc-4e53-83c0-af94437775ea",
   "metadata": {},
   "outputs": [],
   "source": []
  }
 ],
 "metadata": {
  "kernelspec": {
   "display_name": "Python 3 (ipykernel)",
   "language": "python",
   "name": "python3"
  },
  "language_info": {
   "codemirror_mode": {
    "name": "ipython",
    "version": 3
   },
   "file_extension": ".py",
   "mimetype": "text/x-python",
   "name": "python",
   "nbconvert_exporter": "python",
   "pygments_lexer": "ipython3",
   "version": "3.12.4"
  }
 },
 "nbformat": 4,
 "nbformat_minor": 5
}
