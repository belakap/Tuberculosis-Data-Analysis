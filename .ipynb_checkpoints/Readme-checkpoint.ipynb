{
 "cells": [
  {
   "cell_type": "markdown",
   "id": "895ea973-d489-4bfb-9840-c1ba4c6790af",
   "metadata": {},
   "source": [
    "**Climate change influence on TB incidence**\n",
    "\n",
    "**Plan**\n",
    "1. Data Collection\n",
    "   Find two datasets covering the past 20 years: Climate and Tuberculosis dataset.\n",
    "\n",
    "2. Save Raw Data\n",
    "   Rename and save both datasets as CSV files in the project folder DATA/RAW DATA\n",
    "\n",
    "3. Raw Data Overview\n",
    "   Use pandas for exploratory analysis: raw.info(), raw.describe(), raw.head(), Check for: missing values, duplicates, inconsistent formats (strings, etc), plot initial trends.\n",
    "\n",
    "4. Clean the Data\n",
    "   In pandas: drop unnecessary columns, standardize column names, ensure consistent formats for year and country, sort years in ascending order, and remove duplicates by calculating the average values per year.\n",
    "\n",
    "5. Merge and Analyze\n",
    "   Create common subsets: group both datasets by country and year, and merge them.\n",
    "\n",
    "  Analyze merged data: correlation, visualization, scatter plots, regression."
   ]
  },
  {
   "cell_type": "code",
   "execution_count": null,
   "id": "aa41d624-b854-44c6-bd0e-7a23b5a2daf8",
   "metadata": {},
   "outputs": [],
   "source": []
  }
 ],
 "metadata": {
  "kernelspec": {
   "display_name": "Python 3 (ipykernel)",
   "language": "python",
   "name": "python3"
  },
  "language_info": {
   "codemirror_mode": {
    "name": "ipython",
    "version": 3
   },
   "file_extension": ".py",
   "mimetype": "text/x-python",
   "name": "python",
   "nbconvert_exporter": "python",
   "pygments_lexer": "ipython3",
   "version": "3.12.4"
  }
 },
 "nbformat": 4,
 "nbformat_minor": 5
}
